{
  "nbformat": 4,
  "nbformat_minor": 0,
  "metadata": {
    "colab": {
      "provenance": [],
      "mount_file_id": "1ef9sibHTuwTXJDLI91hwaGoWIyLmU-PF",
      "authorship_tag": "ABX9TyOFQImLyxLkT1hSh2Nvr40V",
      "include_colab_link": true
    },
    "kernelspec": {
      "name": "python3",
      "display_name": "Python 3"
    },
    "language_info": {
      "name": "python"
    }
  },
  "cells": [
    {
      "cell_type": "markdown",
      "metadata": {
        "id": "view-in-github",
        "colab_type": "text"
      },
      "source": [
        "<a href=\"https://colab.research.google.com/github/0anower/BDA_Project1/blob/main/final_project.ipynb\" target=\"_parent\"><img src=\"https://colab.research.google.com/assets/colab-badge.svg\" alt=\"Open In Colab\"/></a>"
      ]
    },
    {
      "cell_type": "markdown",
      "source": [
        "All the necessary libraries"
      ],
      "metadata": {
        "id": "dQyjT9pJD3F9"
      }
    },
    {
      "cell_type": "code",
      "source": [
        "# Libraries\n",
        "import numpy as np\n",
        "import pandas as pd\n",
        "import matplotlib.pyplot as plt\n",
        "import matplotlib.image as mpimg\n",
        "from PIL import Image\n",
        "import shutil\n",
        "from sklearn.model_selection import train_test_split\n",
        "import random\n",
        "import cv2\n",
        "import os"
      ],
      "metadata": {
        "id": "FIpal1zru8pS"
      },
      "execution_count": 15,
      "outputs": []
    },
    {
      "cell_type": "markdown",
      "source": [
        "Importing dataset from google drive"
      ],
      "metadata": {
        "id": "QIWjVQs5D7U_"
      }
    },
    {
      "cell_type": "code",
      "source": [
        "from google.colab import drive\n",
        "drive.mount('/content/drive')"
      ],
      "metadata": {
        "colab": {
          "base_uri": "https://localhost:8080/"
        },
        "id": "48HnOVF3KeNs",
        "outputId": "73682e2c-f602-495c-b81d-fc2c98c36a43"
      },
      "execution_count": 2,
      "outputs": [
        {
          "output_type": "stream",
          "name": "stdout",
          "text": [
            "Drive already mounted at /content/drive; to attempt to forcibly remount, call drive.mount(\"/content/drive\", force_remount=True).\n"
          ]
        }
      ]
    },
    {
      "cell_type": "markdown",
      "source": [
        "dataset in google drive is a zip folder. Here, the folder is unzipped and loaded into collab."
      ],
      "metadata": {
        "id": "82LqsFVNEEYO"
      }
    },
    {
      "cell_type": "code",
      "source": [
        "import os\n",
        "import zipfile\n",
        "\n",
        "zip_file = '/content/drive/MyDrive/TomatoPlantVillage.zip'  # Replace with your zip file name\n",
        "extracted_file = '/content/PlantVillage'\n",
        "\n",
        "with zipfile.ZipFile(zip_file, 'r') as zip_ref:\n",
        "    zip_ref.extractall(extracted_file)"
      ],
      "metadata": {
        "id": "KbOWQE7-weuE"
      },
      "execution_count": 3,
      "outputs": []
    },
    {
      "cell_type": "markdown",
      "source": [
        "Lists all the sub folders.\n",
        "Each sub-folder is a class."
      ],
      "metadata": {
        "id": "ApyNnQUoEPYP"
      }
    },
    {
      "cell_type": "code",
      "source": [
        "os.listdir(extracted_file)\n",
        "work_folder = '/content/PlantVillage/TomatoPlantVillage'\n",
        "os.listdir(work_folder)\n",
        "\n",
        "diseases = [d for d in os.listdir(work_folder) if os.path.isdir(os.path.join(work_folder, d))]"
      ],
      "metadata": {
        "id": "5Au_eEZYnlWC"
      },
      "execution_count": 4,
      "outputs": []
    },
    {
      "cell_type": "markdown",
      "source": [
        "shows how many images each class contain, in a tabular form."
      ],
      "metadata": {
        "id": "zmM7yVruEaPB"
      }
    },
    {
      "cell_type": "code",
      "source": [
        "nums = {}\n",
        "for class_dir in os.listdir(work_folder):\n",
        "    dir_path = os.path.join(work_folder, class_dir)\n",
        "    if os.path.isdir(dir_path):  # Check if it is a directory\n",
        "        nums[class_dir] = len(os.listdir(dir_path))  # Count files in the directory\n",
        "\n",
        "panda_classes = pd.DataFrame(list(nums.items()), columns=['Class', 'Number of Images'])\n",
        "panda_classes"
      ],
      "metadata": {
        "colab": {
          "base_uri": "https://localhost:8080/",
          "height": 363
        },
        "id": "oa4t9p2jBVbt",
        "outputId": "0796ccb1-b474-473b-9c63-06236737683f"
      },
      "execution_count": 5,
      "outputs": [
        {
          "output_type": "execute_result",
          "data": {
            "text/plain": [
              "                                         Class  Number of Images\n",
              "0        Tomato__Tomato_YellowLeaf__Curl_Virus              3209\n",
              "1                             Tomato_Leaf_Mold               952\n",
              "2                          Tomato_Early_blight              1000\n",
              "3                               Tomato_healthy              1591\n",
              "4                    Tomato_Septoria_leaf_spot              1771\n",
              "5                          Tomato__Target_Spot              1404\n",
              "6                        Tomato_Bacterial_spot              2127\n",
              "7                  Tomato__Tomato_mosaic_virus               373\n",
              "8                           Tomato_Late_blight              1909\n",
              "9  Tomato_Spider_mites_Two_spotted_spider_mite              1676"
            ],
            "text/html": [
              "\n",
              "  <div id=\"df-7ae78d4d-a0c2-41ad-b696-6770677612bc\" class=\"colab-df-container\">\n",
              "    <div>\n",
              "<style scoped>\n",
              "    .dataframe tbody tr th:only-of-type {\n",
              "        vertical-align: middle;\n",
              "    }\n",
              "\n",
              "    .dataframe tbody tr th {\n",
              "        vertical-align: top;\n",
              "    }\n",
              "\n",
              "    .dataframe thead th {\n",
              "        text-align: right;\n",
              "    }\n",
              "</style>\n",
              "<table border=\"1\" class=\"dataframe\">\n",
              "  <thead>\n",
              "    <tr style=\"text-align: right;\">\n",
              "      <th></th>\n",
              "      <th>Class</th>\n",
              "      <th>Number of Images</th>\n",
              "    </tr>\n",
              "  </thead>\n",
              "  <tbody>\n",
              "    <tr>\n",
              "      <th>0</th>\n",
              "      <td>Tomato__Tomato_YellowLeaf__Curl_Virus</td>\n",
              "      <td>3209</td>\n",
              "    </tr>\n",
              "    <tr>\n",
              "      <th>1</th>\n",
              "      <td>Tomato_Leaf_Mold</td>\n",
              "      <td>952</td>\n",
              "    </tr>\n",
              "    <tr>\n",
              "      <th>2</th>\n",
              "      <td>Tomato_Early_blight</td>\n",
              "      <td>1000</td>\n",
              "    </tr>\n",
              "    <tr>\n",
              "      <th>3</th>\n",
              "      <td>Tomato_healthy</td>\n",
              "      <td>1591</td>\n",
              "    </tr>\n",
              "    <tr>\n",
              "      <th>4</th>\n",
              "      <td>Tomato_Septoria_leaf_spot</td>\n",
              "      <td>1771</td>\n",
              "    </tr>\n",
              "    <tr>\n",
              "      <th>5</th>\n",
              "      <td>Tomato__Target_Spot</td>\n",
              "      <td>1404</td>\n",
              "    </tr>\n",
              "    <tr>\n",
              "      <th>6</th>\n",
              "      <td>Tomato_Bacterial_spot</td>\n",
              "      <td>2127</td>\n",
              "    </tr>\n",
              "    <tr>\n",
              "      <th>7</th>\n",
              "      <td>Tomato__Tomato_mosaic_virus</td>\n",
              "      <td>373</td>\n",
              "    </tr>\n",
              "    <tr>\n",
              "      <th>8</th>\n",
              "      <td>Tomato_Late_blight</td>\n",
              "      <td>1909</td>\n",
              "    </tr>\n",
              "    <tr>\n",
              "      <th>9</th>\n",
              "      <td>Tomato_Spider_mites_Two_spotted_spider_mite</td>\n",
              "      <td>1676</td>\n",
              "    </tr>\n",
              "  </tbody>\n",
              "</table>\n",
              "</div>\n",
              "    <div class=\"colab-df-buttons\">\n",
              "\n",
              "  <div class=\"colab-df-container\">\n",
              "    <button class=\"colab-df-convert\" onclick=\"convertToInteractive('df-7ae78d4d-a0c2-41ad-b696-6770677612bc')\"\n",
              "            title=\"Convert this dataframe to an interactive table.\"\n",
              "            style=\"display:none;\">\n",
              "\n",
              "  <svg xmlns=\"http://www.w3.org/2000/svg\" height=\"24px\" viewBox=\"0 -960 960 960\">\n",
              "    <path d=\"M120-120v-720h720v720H120Zm60-500h600v-160H180v160Zm220 220h160v-160H400v160Zm0 220h160v-160H400v160ZM180-400h160v-160H180v160Zm440 0h160v-160H620v160ZM180-180h160v-160H180v160Zm440 0h160v-160H620v160Z\"/>\n",
              "  </svg>\n",
              "    </button>\n",
              "\n",
              "  <style>\n",
              "    .colab-df-container {\n",
              "      display:flex;\n",
              "      gap: 12px;\n",
              "    }\n",
              "\n",
              "    .colab-df-convert {\n",
              "      background-color: #E8F0FE;\n",
              "      border: none;\n",
              "      border-radius: 50%;\n",
              "      cursor: pointer;\n",
              "      display: none;\n",
              "      fill: #1967D2;\n",
              "      height: 32px;\n",
              "      padding: 0 0 0 0;\n",
              "      width: 32px;\n",
              "    }\n",
              "\n",
              "    .colab-df-convert:hover {\n",
              "      background-color: #E2EBFA;\n",
              "      box-shadow: 0px 1px 2px rgba(60, 64, 67, 0.3), 0px 1px 3px 1px rgba(60, 64, 67, 0.15);\n",
              "      fill: #174EA6;\n",
              "    }\n",
              "\n",
              "    .colab-df-buttons div {\n",
              "      margin-bottom: 4px;\n",
              "    }\n",
              "\n",
              "    [theme=dark] .colab-df-convert {\n",
              "      background-color: #3B4455;\n",
              "      fill: #D2E3FC;\n",
              "    }\n",
              "\n",
              "    [theme=dark] .colab-df-convert:hover {\n",
              "      background-color: #434B5C;\n",
              "      box-shadow: 0px 1px 3px 1px rgba(0, 0, 0, 0.15);\n",
              "      filter: drop-shadow(0px 1px 2px rgba(0, 0, 0, 0.3));\n",
              "      fill: #FFFFFF;\n",
              "    }\n",
              "  </style>\n",
              "\n",
              "    <script>\n",
              "      const buttonEl =\n",
              "        document.querySelector('#df-7ae78d4d-a0c2-41ad-b696-6770677612bc button.colab-df-convert');\n",
              "      buttonEl.style.display =\n",
              "        google.colab.kernel.accessAllowed ? 'block' : 'none';\n",
              "\n",
              "      async function convertToInteractive(key) {\n",
              "        const element = document.querySelector('#df-7ae78d4d-a0c2-41ad-b696-6770677612bc');\n",
              "        const dataTable =\n",
              "          await google.colab.kernel.invokeFunction('convertToInteractive',\n",
              "                                                    [key], {});\n",
              "        if (!dataTable) return;\n",
              "\n",
              "        const docLinkHtml = 'Like what you see? Visit the ' +\n",
              "          '<a target=\"_blank\" href=https://colab.research.google.com/notebooks/data_table.ipynb>data table notebook</a>'\n",
              "          + ' to learn more about interactive tables.';\n",
              "        element.innerHTML = '';\n",
              "        dataTable['output_type'] = 'display_data';\n",
              "        await google.colab.output.renderOutput(dataTable, element);\n",
              "        const docLink = document.createElement('div');\n",
              "        docLink.innerHTML = docLinkHtml;\n",
              "        element.appendChild(docLink);\n",
              "      }\n",
              "    </script>\n",
              "  </div>\n",
              "\n",
              "\n",
              "<div id=\"df-3e27bf6c-a6d8-44b1-8381-9c2ea9b945d4\">\n",
              "  <button class=\"colab-df-quickchart\" onclick=\"quickchart('df-3e27bf6c-a6d8-44b1-8381-9c2ea9b945d4')\"\n",
              "            title=\"Suggest charts\"\n",
              "            style=\"display:none;\">\n",
              "\n",
              "<svg xmlns=\"http://www.w3.org/2000/svg\" height=\"24px\"viewBox=\"0 0 24 24\"\n",
              "     width=\"24px\">\n",
              "    <g>\n",
              "        <path d=\"M19 3H5c-1.1 0-2 .9-2 2v14c0 1.1.9 2 2 2h14c1.1 0 2-.9 2-2V5c0-1.1-.9-2-2-2zM9 17H7v-7h2v7zm4 0h-2V7h2v10zm4 0h-2v-4h2v4z\"/>\n",
              "    </g>\n",
              "</svg>\n",
              "  </button>\n",
              "\n",
              "<style>\n",
              "  .colab-df-quickchart {\n",
              "      --bg-color: #E8F0FE;\n",
              "      --fill-color: #1967D2;\n",
              "      --hover-bg-color: #E2EBFA;\n",
              "      --hover-fill-color: #174EA6;\n",
              "      --disabled-fill-color: #AAA;\n",
              "      --disabled-bg-color: #DDD;\n",
              "  }\n",
              "\n",
              "  [theme=dark] .colab-df-quickchart {\n",
              "      --bg-color: #3B4455;\n",
              "      --fill-color: #D2E3FC;\n",
              "      --hover-bg-color: #434B5C;\n",
              "      --hover-fill-color: #FFFFFF;\n",
              "      --disabled-bg-color: #3B4455;\n",
              "      --disabled-fill-color: #666;\n",
              "  }\n",
              "\n",
              "  .colab-df-quickchart {\n",
              "    background-color: var(--bg-color);\n",
              "    border: none;\n",
              "    border-radius: 50%;\n",
              "    cursor: pointer;\n",
              "    display: none;\n",
              "    fill: var(--fill-color);\n",
              "    height: 32px;\n",
              "    padding: 0;\n",
              "    width: 32px;\n",
              "  }\n",
              "\n",
              "  .colab-df-quickchart:hover {\n",
              "    background-color: var(--hover-bg-color);\n",
              "    box-shadow: 0 1px 2px rgba(60, 64, 67, 0.3), 0 1px 3px 1px rgba(60, 64, 67, 0.15);\n",
              "    fill: var(--button-hover-fill-color);\n",
              "  }\n",
              "\n",
              "  .colab-df-quickchart-complete:disabled,\n",
              "  .colab-df-quickchart-complete:disabled:hover {\n",
              "    background-color: var(--disabled-bg-color);\n",
              "    fill: var(--disabled-fill-color);\n",
              "    box-shadow: none;\n",
              "  }\n",
              "\n",
              "  .colab-df-spinner {\n",
              "    border: 2px solid var(--fill-color);\n",
              "    border-color: transparent;\n",
              "    border-bottom-color: var(--fill-color);\n",
              "    animation:\n",
              "      spin 1s steps(1) infinite;\n",
              "  }\n",
              "\n",
              "  @keyframes spin {\n",
              "    0% {\n",
              "      border-color: transparent;\n",
              "      border-bottom-color: var(--fill-color);\n",
              "      border-left-color: var(--fill-color);\n",
              "    }\n",
              "    20% {\n",
              "      border-color: transparent;\n",
              "      border-left-color: var(--fill-color);\n",
              "      border-top-color: var(--fill-color);\n",
              "    }\n",
              "    30% {\n",
              "      border-color: transparent;\n",
              "      border-left-color: var(--fill-color);\n",
              "      border-top-color: var(--fill-color);\n",
              "      border-right-color: var(--fill-color);\n",
              "    }\n",
              "    40% {\n",
              "      border-color: transparent;\n",
              "      border-right-color: var(--fill-color);\n",
              "      border-top-color: var(--fill-color);\n",
              "    }\n",
              "    60% {\n",
              "      border-color: transparent;\n",
              "      border-right-color: var(--fill-color);\n",
              "    }\n",
              "    80% {\n",
              "      border-color: transparent;\n",
              "      border-right-color: var(--fill-color);\n",
              "      border-bottom-color: var(--fill-color);\n",
              "    }\n",
              "    90% {\n",
              "      border-color: transparent;\n",
              "      border-bottom-color: var(--fill-color);\n",
              "    }\n",
              "  }\n",
              "</style>\n",
              "\n",
              "  <script>\n",
              "    async function quickchart(key) {\n",
              "      const quickchartButtonEl =\n",
              "        document.querySelector('#' + key + ' button');\n",
              "      quickchartButtonEl.disabled = true;  // To prevent multiple clicks.\n",
              "      quickchartButtonEl.classList.add('colab-df-spinner');\n",
              "      try {\n",
              "        const charts = await google.colab.kernel.invokeFunction(\n",
              "            'suggestCharts', [key], {});\n",
              "      } catch (error) {\n",
              "        console.error('Error during call to suggestCharts:', error);\n",
              "      }\n",
              "      quickchartButtonEl.classList.remove('colab-df-spinner');\n",
              "      quickchartButtonEl.classList.add('colab-df-quickchart-complete');\n",
              "    }\n",
              "    (() => {\n",
              "      let quickchartButtonEl =\n",
              "        document.querySelector('#df-3e27bf6c-a6d8-44b1-8381-9c2ea9b945d4 button');\n",
              "      quickchartButtonEl.style.display =\n",
              "        google.colab.kernel.accessAllowed ? 'block' : 'none';\n",
              "    })();\n",
              "  </script>\n",
              "</div>\n",
              "\n",
              "  <div id=\"id_99d83e8b-7ba6-4705-9f10-6fd872f6a069\">\n",
              "    <style>\n",
              "      .colab-df-generate {\n",
              "        background-color: #E8F0FE;\n",
              "        border: none;\n",
              "        border-radius: 50%;\n",
              "        cursor: pointer;\n",
              "        display: none;\n",
              "        fill: #1967D2;\n",
              "        height: 32px;\n",
              "        padding: 0 0 0 0;\n",
              "        width: 32px;\n",
              "      }\n",
              "\n",
              "      .colab-df-generate:hover {\n",
              "        background-color: #E2EBFA;\n",
              "        box-shadow: 0px 1px 2px rgba(60, 64, 67, 0.3), 0px 1px 3px 1px rgba(60, 64, 67, 0.15);\n",
              "        fill: #174EA6;\n",
              "      }\n",
              "\n",
              "      [theme=dark] .colab-df-generate {\n",
              "        background-color: #3B4455;\n",
              "        fill: #D2E3FC;\n",
              "      }\n",
              "\n",
              "      [theme=dark] .colab-df-generate:hover {\n",
              "        background-color: #434B5C;\n",
              "        box-shadow: 0px 1px 3px 1px rgba(0, 0, 0, 0.15);\n",
              "        filter: drop-shadow(0px 1px 2px rgba(0, 0, 0, 0.3));\n",
              "        fill: #FFFFFF;\n",
              "      }\n",
              "    </style>\n",
              "    <button class=\"colab-df-generate\" onclick=\"generateWithVariable('panda_classes')\"\n",
              "            title=\"Generate code using this dataframe.\"\n",
              "            style=\"display:none;\">\n",
              "\n",
              "  <svg xmlns=\"http://www.w3.org/2000/svg\" height=\"24px\"viewBox=\"0 0 24 24\"\n",
              "       width=\"24px\">\n",
              "    <path d=\"M7,19H8.4L18.45,9,17,7.55,7,17.6ZM5,21V16.75L18.45,3.32a2,2,0,0,1,2.83,0l1.4,1.43a1.91,1.91,0,0,1,.58,1.4,1.91,1.91,0,0,1-.58,1.4L9.25,21ZM18.45,9,17,7.55Zm-12,3A5.31,5.31,0,0,0,4.9,8.1,5.31,5.31,0,0,0,1,6.5,5.31,5.31,0,0,0,4.9,4.9,5.31,5.31,0,0,0,6.5,1,5.31,5.31,0,0,0,8.1,4.9,5.31,5.31,0,0,0,12,6.5,5.46,5.46,0,0,0,6.5,12Z\"/>\n",
              "  </svg>\n",
              "    </button>\n",
              "    <script>\n",
              "      (() => {\n",
              "      const buttonEl =\n",
              "        document.querySelector('#id_99d83e8b-7ba6-4705-9f10-6fd872f6a069 button.colab-df-generate');\n",
              "      buttonEl.style.display =\n",
              "        google.colab.kernel.accessAllowed ? 'block' : 'none';\n",
              "\n",
              "      buttonEl.onclick = () => {\n",
              "        google.colab.notebook.generateWithVariable('panda_classes');\n",
              "      }\n",
              "      })();\n",
              "    </script>\n",
              "  </div>\n",
              "\n",
              "    </div>\n",
              "  </div>\n"
            ],
            "application/vnd.google.colaboratory.intrinsic+json": {
              "type": "dataframe",
              "variable_name": "panda_classes",
              "summary": "{\n  \"name\": \"panda_classes\",\n  \"rows\": 10,\n  \"fields\": [\n    {\n      \"column\": \"Class\",\n      \"properties\": {\n        \"dtype\": \"string\",\n        \"num_unique_values\": 10,\n        \"samples\": [\n          \"Tomato_Late_blight\",\n          \"Tomato_Leaf_Mold\",\n          \"Tomato__Target_Spot\"\n        ],\n        \"semantic_type\": \"\",\n        \"description\": \"\"\n      }\n    },\n    {\n      \"column\": \"Number of Images\",\n      \"properties\": {\n        \"dtype\": \"number\",\n        \"std\": 768,\n        \"min\": 373,\n        \"max\": 3209,\n        \"num_unique_values\": 10,\n        \"samples\": [\n          1909,\n          952,\n          1404\n        ],\n        \"semantic_type\": \"\",\n        \"description\": \"\"\n      }\n    }\n  ]\n}"
            }
          },
          "metadata": {},
          "execution_count": 5
        }
      ]
    },
    {
      "cell_type": "markdown",
      "source": [
        "Visualizes the previous table as a histogram."
      ],
      "metadata": {
        "id": "JQhgzf7tEjpa"
      }
    },
    {
      "source": [
        "plt.figure(figsize=(10, 6))\n",
        "plt.bar(panda_classes[\"Class\"], panda_classes[\"Number of Images\"], color='skyblue')\n",
        "plt.xlabel('Class Name')\n",
        "plt.ylabel('Number of Images')\n",
        "plt.title('Number of Images per Class')\n",
        "plt.xticks(rotation=45, ha='right')  # Rotate the x labels for better readability\n",
        "plt.show()"
      ],
      "cell_type": "code",
      "execution_count": 6,
      "outputs": [
        {
          "output_type": "display_data",
          "data": {
            "text/plain": [
              "<Figure size 1000x600 with 1 Axes>"
            ],
            "image/png": "[encoded data removed]"
          },
          "metadata": {}
        }
      ],
      "metadata": {
        "colab": {
          "base_uri": "https://localhost:8080/",
          "height": 793
        },
        "id": "9OFRF9NbCdb5",
        "outputId": "d6edd267-5eb1-4c56-cc84-e6fe9d9f7012"
      }
    },
    {
      "cell_type": "markdown",
      "source": [
        "Creates designated folders for splitted data"
      ],
      "metadata": {
        "id": "B4UpU3csyYMC"
      }
    },
    {
      "cell_type": "code",
      "source": [
        "os.listdir(work_folder)"
      ],
      "metadata": {
        "colab": {
          "base_uri": "https://localhost:8080/"
        },
        "id": "tJUgosWM1FyY",
        "outputId": "ec048d26-f3f6-4ccf-d917-6c41c365a2e0"
      },
      "execution_count": 12,
      "outputs": [
        {
          "output_type": "execute_result",
          "data": {
            "text/plain": [
              "['Tomato__Tomato_YellowLeaf__Curl_Virus',\n",
              " 'Tomato_Leaf_Mold',\n",
              " 'Tomato_Early_blight',\n",
              " 'Tomato_healthy',\n",
              " 'Tomato_Septoria_leaf_spot',\n",
              " 'Tomato__Target_Spot',\n",
              " 'Tomato_Bacterial_spot',\n",
              " 'Tomato__Tomato_mosaic_virus',\n",
              " 'Tomato_Late_blight',\n",
              " 'Tomato_Spider_mites_Two_spotted_spider_mite']"
            ]
          },
          "metadata": {},
          "execution_count": 12
        }
      ]
    },
    {
      "cell_type": "markdown",
      "source": [
        "creates training, validation, and test sets directories"
      ],
      "metadata": {
        "id": "sJgBerUc3P5V"
      }
    },
    {
      "cell_type": "code",
      "source": [
        "#destinations\n",
        "split_dataset = \"TomatoPlantDataset/\"\n",
        "\n",
        "train_path = os.path.join(split_dataset, \"training_data\")\n",
        "val_path = os.path.join(split_dataset, \"validation_data\")\n",
        "test_path = os.path.join(split_dataset, \"testing_data\")\n",
        "\n",
        "#image_exe = ['.jpg']\n",
        "\n",
        "# makes seperate dirs\n",
        "os.makedirs(train_path, exist_ok=True)\n",
        "os.makedirs(val_path, exist_ok=True)\n",
        "os.makedirs(test_path, exist_ok=True)"
      ],
      "metadata": {
        "id": "r3icAkztyNax"
      },
      "execution_count": 14,
      "outputs": []
    },
    {
      "cell_type": "code",
      "source": [
        "# def load_images(work_folder, image_size=(64,64)):\n",
        "#     images = []\n",
        "#     labels = []\n",
        "#     random.shuffle(work_folder)\n",
        "\n",
        "#     for images, labels in work_folder:\n",
        "#       images.append(images)\n",
        "#       labels.append(labels)\n",
        "\n",
        "#     return images, labels"
      ],
      "metadata": {
        "id": "nENxP4gkB1E7"
      },
      "execution_count": 11,
      "outputs": []
    },
    {
      "cell_type": "code",
      "source": [
        "train_ratio = 0.7\n",
        "test_ratio = 0.15\n",
        "val_ratio = 0.15\n",
        "\n",
        "# Define a function to split data\n",
        "def datasplit(work_folder, train_path, val_path, test_path, val_ratio=0.15, test_ratio=0.15):\n",
        "    # Get class names\n",
        "    class_names = os.listdir(work_folder)\n",
        "\n",
        "    for cls in class_names:\n",
        "        class_dir = os.path.join(work_folder, cls)\n",
        "        images = os.listdir(class_dir)\n",
        "\n",
        "        # Split the dataset\n",
        "        train_and_val, testing_data = train_test_split(images, test_size=test_ratio, random_state=42)\n",
        "        training_data, validation_data = train_test_split(train_and_val, test_size=val_ratio, random_state=42)\n",
        "\n",
        "        # Copy the images to the respective directories\n",
        "        for img in training_data:\n",
        "            shutil.copy(os.path.join(class_dir, img), os.path.join(train_path, cls))\n",
        "        for img in validation_data:\n",
        "            shutil.copy(os.path.join(class_dir, img), os.path.join(val_path, cls))\n",
        "        for img in testing_data:\n",
        "            shutil.copy(os.path.join(class_dir, img), os.path.join(test_path, cls))\n",
        "\n",
        "# Create subdirectories for each class in train, val, test directories\n",
        "for cls in os.listdir(work_folder):\n",
        "    os.makedirs(os.path.join(train_path, cls), exist_ok=True)\n",
        "    os.makedirs(os.path.join(val_path, cls), exist_ok=True)\n",
        "    os.makedirs(os.path.join(test_path, cls), exist_ok=True)\n",
        "\n",
        "# Split the data\n",
        "datasplit(work_folder, train_path, val_path, test_path)\n"
      ],
      "metadata": {
        "id": "g-k4AHv8y3Oc"
      },
      "execution_count": 16,
      "outputs": []
    },
    {
      "cell_type": "code",
      "source": [],
      "metadata": {
        "id": "knfi_gRzDUkF"
      },
      "execution_count": 10,
      "outputs": []
    }
  ]
}